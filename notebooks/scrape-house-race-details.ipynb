{
 "cells": [
  {
   "cell_type": "markdown",
   "metadata": {},
   "source": [
    "# Scrape the House Race Details From *FiveThirtyEight*\n",
    "\n",
    "This notebook scrapes the current predictions for the House race from *FiveThirtyEight* at a given moment and puts the resulting CSV in the `data/fivethirtyeight` directory."
   ]
  },
  {
   "cell_type": "code",
   "execution_count": 1,
   "metadata": {},
   "outputs": [],
   "source": [
    "import requests\n",
    "import pandas as pd\n",
    "import json"
   ]
  },
  {
   "cell_type": "markdown",
   "metadata": {},
   "source": [
    "## Fetch *FiveThirtyEight* House Election Forecast\n",
    "\n",
    "The data we want is embedded in a JSON file on the *FiveThirtyEight* site that populates the webpage."
   ]
  },
  {
   "cell_type": "code",
   "execution_count": 2,
   "metadata": {},
   "outputs": [],
   "source": [
    "URL = \"https://projects.fivethirtyeight.com/2018-midterm-election-forecast/house/home.json\""
   ]
  },
  {
   "cell_type": "code",
   "execution_count": 3,
   "metadata": {},
   "outputs": [],
   "source": [
    "res = requests.get(URL)"
   ]
  },
  {
   "cell_type": "code",
   "execution_count": 4,
   "metadata": {},
   "outputs": [],
   "source": [
    "data = json.loads(res.content)"
   ]
  },
  {
   "cell_type": "markdown",
   "metadata": {},
   "source": [
    "## Extract Candidate Win Probabilities"
   ]
  },
  {
   "cell_type": "code",
   "execution_count": 5,
   "metadata": {},
   "outputs": [],
   "source": [
    "candidates = []\n",
    "for d in data[\"districtForecasts\"]:\n",
    "    for f in d[\"forecast\"]:\n",
    "        if d[\"state\"] != \"US\":\n",
    "            candidate_dict = {\n",
    "                \"state\": d[\"state\"],\n",
    "                \"district\": d[\"district\"]        \n",
    "            }\n",
    "            candidate_dict[\"candidate\"] = f[\"candidate\"]\n",
    "            candidate_dict[\"party\"] = f[\"party\"]\n",
    "            candidate_dict[\"classic_prob\"] = f[\"models\"][\"classic\"][\"winprob\"]\n",
    "            candidates.append(candidate_dict)"
   ]
  },
  {
   "cell_type": "code",
   "execution_count": 6,
   "metadata": {},
   "outputs": [
    {
     "data": {
      "text/plain": [
       "1031"
      ]
     },
     "execution_count": 6,
     "metadata": {},
     "output_type": "execute_result"
    }
   ],
   "source": [
    "len(candidates)"
   ]
  },
  {
   "cell_type": "code",
   "execution_count": 7,
   "metadata": {},
   "outputs": [],
   "source": [
    "house_candidates = pd.DataFrame(candidates)"
   ]
  },
  {
   "cell_type": "code",
   "execution_count": 8,
   "metadata": {},
   "outputs": [
    {
     "data": {
      "text/html": [
       "<div>\n",
       "<style scoped>\n",
       "    .dataframe tbody tr th:only-of-type {\n",
       "        vertical-align: middle;\n",
       "    }\n",
       "\n",
       "    .dataframe tbody tr th {\n",
       "        vertical-align: top;\n",
       "    }\n",
       "\n",
       "    .dataframe thead th {\n",
       "        text-align: right;\n",
       "    }\n",
       "</style>\n",
       "<table border=\"1\" class=\"dataframe\">\n",
       "  <thead>\n",
       "    <tr style=\"text-align: right;\">\n",
       "      <th></th>\n",
       "      <th>candidate</th>\n",
       "      <th>classic_prob</th>\n",
       "      <th>district</th>\n",
       "      <th>party</th>\n",
       "      <th>state</th>\n",
       "    </tr>\n",
       "  </thead>\n",
       "  <tbody>\n",
       "    <tr>\n",
       "      <th>0</th>\n",
       "      <td>Alyse S. Galvin</td>\n",
       "      <td>29.244</td>\n",
       "      <td>1</td>\n",
       "      <td>D</td>\n",
       "      <td>AK</td>\n",
       "    </tr>\n",
       "    <tr>\n",
       "      <th>1</th>\n",
       "      <td>Don Young</td>\n",
       "      <td>70.756</td>\n",
       "      <td>1</td>\n",
       "      <td>R</td>\n",
       "      <td>AK</td>\n",
       "    </tr>\n",
       "    <tr>\n",
       "      <th>2</th>\n",
       "      <td>Others</td>\n",
       "      <td>0.000</td>\n",
       "      <td>1</td>\n",
       "      <td>None</td>\n",
       "      <td>AK</td>\n",
       "    </tr>\n",
       "    <tr>\n",
       "      <th>3</th>\n",
       "      <td>Terri A. Sewell</td>\n",
       "      <td>100.000</td>\n",
       "      <td>7</td>\n",
       "      <td>D</td>\n",
       "      <td>AL</td>\n",
       "    </tr>\n",
       "    <tr>\n",
       "      <th>4</th>\n",
       "      <td>Danner Kline</td>\n",
       "      <td>0.010</td>\n",
       "      <td>6</td>\n",
       "      <td>D</td>\n",
       "      <td>AL</td>\n",
       "    </tr>\n",
       "  </tbody>\n",
       "</table>\n",
       "</div>"
      ],
      "text/plain": [
       "         candidate  classic_prob district party state\n",
       "0  Alyse S. Galvin        29.244        1     D    AK\n",
       "1        Don Young        70.756        1     R    AK\n",
       "2           Others         0.000        1  None    AK\n",
       "3  Terri A. Sewell       100.000        7     D    AL\n",
       "4     Danner Kline         0.010        6     D    AL"
      ]
     },
     "execution_count": 8,
     "metadata": {},
     "output_type": "execute_result"
    }
   ],
   "source": [
    "house_candidates.head()"
   ]
  },
  {
   "cell_type": "code",
   "execution_count": 9,
   "metadata": {},
   "outputs": [
    {
     "data": {
      "text/plain": [
       "50"
      ]
     },
     "execution_count": 9,
     "metadata": {},
     "output_type": "execute_result"
    }
   ],
   "source": [
    "house_candidates[\"state\"].nunique()"
   ]
  },
  {
   "cell_type": "code",
   "execution_count": 10,
   "metadata": {},
   "outputs": [],
   "source": [
    "house_candidates.to_csv(\"../data/fivethirtyeight/house_candidate_odds.csv\", index=None)"
   ]
  },
  {
   "cell_type": "markdown",
   "metadata": {},
   "source": [
    "---\n",
    "\n",
    "---\n",
    "\n",
    "---"
   ]
  }
 ],
 "metadata": {
  "kernelspec": {
   "display_name": "Python 3",
   "language": "python",
   "name": "python3"
  },
  "language_info": {
   "codemirror_mode": {
    "name": "ipython",
    "version": 3
   },
   "file_extension": ".py",
   "mimetype": "text/x-python",
   "name": "python",
   "nbconvert_exporter": "python",
   "pygments_lexer": "ipython3",
   "version": "3.6.4"
  }
 },
 "nbformat": 4,
 "nbformat_minor": 1
}
